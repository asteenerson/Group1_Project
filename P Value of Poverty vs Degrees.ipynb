{
 "cells": [
  {
   "cell_type": "code",
   "execution_count": 14,
   "metadata": {},
   "outputs": [],
   "source": [
    "import pandas as pd\n",
    "import numpy as np\n",
    "import matplotlib.pyplot as plt\n",
    "import scipy.stats as stats"
   ]
  },
  {
   "cell_type": "code",
   "execution_count": 4,
   "metadata": {},
   "outputs": [
    {
     "data": {
      "text/html": [
       "<div>\n",
       "<style scoped>\n",
       "    .dataframe tbody tr th:only-of-type {\n",
       "        vertical-align: middle;\n",
       "    }\n",
       "\n",
       "    .dataframe tbody tr th {\n",
       "        vertical-align: top;\n",
       "    }\n",
       "\n",
       "    .dataframe thead th {\n",
       "        text-align: right;\n",
       "    }\n",
       "</style>\n",
       "<table border=\"1\" class=\"dataframe\">\n",
       "  <thead>\n",
       "    <tr style=\"text-align: right;\">\n",
       "      <th></th>\n",
       "      <th>Name</th>\n",
       "      <th>Population</th>\n",
       "      <th>Poverty Count</th>\n",
       "      <th>No Education</th>\n",
       "      <th>High School Education</th>\n",
       "      <th>GED Education</th>\n",
       "      <th>Associates Degree</th>\n",
       "      <th>Bachelors Degree</th>\n",
       "      <th>Masters Degree</th>\n",
       "      <th>Professional Degree</th>\n",
       "      <th>Doctoral Degree</th>\n",
       "      <th>Poverty Rate</th>\n",
       "      <th>No Degree</th>\n",
       "      <th>Degree</th>\n",
       "    </tr>\n",
       "  </thead>\n",
       "  <tbody>\n",
       "    <tr>\n",
       "      <th>0</th>\n",
       "      <td>Alabama</td>\n",
       "      <td>4841164.0</td>\n",
       "      <td>868666.0</td>\n",
       "      <td>42577.0</td>\n",
       "      <td>828205.0</td>\n",
       "      <td>181388.0</td>\n",
       "      <td>258502.0</td>\n",
       "      <td>492382.0</td>\n",
       "      <td>208839.0</td>\n",
       "      <td>49283.0</td>\n",
       "      <td>32572.0</td>\n",
       "      <td>17.943329</td>\n",
       "      <td>1052170.0</td>\n",
       "      <td>1041578.0</td>\n",
       "    </tr>\n",
       "    <tr>\n",
       "      <th>1</th>\n",
       "      <td>Alaska</td>\n",
       "      <td>736855.0</td>\n",
       "      <td>72826.0</td>\n",
       "      <td>3020.0</td>\n",
       "      <td>106169.0</td>\n",
       "      <td>24342.0</td>\n",
       "      <td>39133.0</td>\n",
       "      <td>86551.0</td>\n",
       "      <td>35423.0</td>\n",
       "      <td>8522.0</td>\n",
       "      <td>5029.0</td>\n",
       "      <td>9.883356</td>\n",
       "      <td>133531.0</td>\n",
       "      <td>174658.0</td>\n",
       "    </tr>\n",
       "    <tr>\n",
       "      <th>2</th>\n",
       "      <td>Arizona</td>\n",
       "      <td>6728577.0</td>\n",
       "      <td>1165636.0</td>\n",
       "      <td>62538.0</td>\n",
       "      <td>898657.0</td>\n",
       "      <td>179701.0</td>\n",
       "      <td>379207.0</td>\n",
       "      <td>777681.0</td>\n",
       "      <td>333226.0</td>\n",
       "      <td>76987.0</td>\n",
       "      <td>53531.0</td>\n",
       "      <td>17.323663</td>\n",
       "      <td>1140896.0</td>\n",
       "      <td>1620632.0</td>\n",
       "    </tr>\n",
       "    <tr>\n",
       "      <th>3</th>\n",
       "      <td>Arkansas</td>\n",
       "      <td>2968472.0</td>\n",
       "      <td>542431.0</td>\n",
       "      <td>23010.0</td>\n",
       "      <td>561132.0</td>\n",
       "      <td>122754.0</td>\n",
       "      <td>127004.0</td>\n",
       "      <td>273557.0</td>\n",
       "      <td>108055.0</td>\n",
       "      <td>24517.0</td>\n",
       "      <td>18317.0</td>\n",
       "      <td>18.273071</td>\n",
       "      <td>706896.0</td>\n",
       "      <td>551450.0</td>\n",
       "    </tr>\n",
       "    <tr>\n",
       "      <th>4</th>\n",
       "      <td>California</td>\n",
       "      <td>38654206.0</td>\n",
       "      <td>6004257.0</td>\n",
       "      <td>673089.0</td>\n",
       "      <td>4678279.0</td>\n",
       "      <td>582625.0</td>\n",
       "      <td>1995579.0</td>\n",
       "      <td>5136043.0</td>\n",
       "      <td>2045487.0</td>\n",
       "      <td>597874.0</td>\n",
       "      <td>397083.0</td>\n",
       "      <td>15.533257</td>\n",
       "      <td>5933993.0</td>\n",
       "      <td>10172066.0</td>\n",
       "    </tr>\n",
       "  </tbody>\n",
       "</table>\n",
       "</div>"
      ],
      "text/plain": [
       "         Name  Population  Poverty Count  No Education  High School Education  \\\n",
       "0     Alabama   4841164.0       868666.0       42577.0               828205.0   \n",
       "1      Alaska    736855.0        72826.0        3020.0               106169.0   \n",
       "2     Arizona   6728577.0      1165636.0       62538.0               898657.0   \n",
       "3    Arkansas   2968472.0       542431.0       23010.0               561132.0   \n",
       "4  California  38654206.0      6004257.0      673089.0              4678279.0   \n",
       "\n",
       "   GED Education  Associates Degree  Bachelors Degree  Masters Degree  \\\n",
       "0       181388.0           258502.0          492382.0        208839.0   \n",
       "1        24342.0            39133.0           86551.0         35423.0   \n",
       "2       179701.0           379207.0          777681.0        333226.0   \n",
       "3       122754.0           127004.0          273557.0        108055.0   \n",
       "4       582625.0          1995579.0         5136043.0       2045487.0   \n",
       "\n",
       "   Professional Degree  Doctoral Degree  Poverty Rate  No Degree      Degree  \n",
       "0              49283.0          32572.0     17.943329  1052170.0   1041578.0  \n",
       "1               8522.0           5029.0      9.883356   133531.0    174658.0  \n",
       "2              76987.0          53531.0     17.323663  1140896.0   1620632.0  \n",
       "3              24517.0          18317.0     18.273071   706896.0    551450.0  \n",
       "4             597874.0         397083.0     15.533257  5933993.0  10172066.0  "
      ]
     },
     "execution_count": 4,
     "metadata": {},
     "output_type": "execute_result"
    }
   ],
   "source": [
    "census_df = pd.read_csv(\"Census_by_state_all.csv\")\n",
    "census_df.head()"
   ]
  },
  {
   "cell_type": "code",
   "execution_count": 11,
   "metadata": {},
   "outputs": [
    {
     "data": {
      "text/html": [
       "<div>\n",
       "<style scoped>\n",
       "    .dataframe tbody tr th:only-of-type {\n",
       "        vertical-align: middle;\n",
       "    }\n",
       "\n",
       "    .dataframe tbody tr th {\n",
       "        vertical-align: top;\n",
       "    }\n",
       "\n",
       "    .dataframe thead th {\n",
       "        text-align: right;\n",
       "    }\n",
       "</style>\n",
       "<table border=\"1\" class=\"dataframe\">\n",
       "  <thead>\n",
       "    <tr style=\"text-align: right;\">\n",
       "      <th></th>\n",
       "      <th>Name</th>\n",
       "      <th>Population</th>\n",
       "      <th>Poverty Rate</th>\n",
       "      <th>Degree %</th>\n",
       "    </tr>\n",
       "  </thead>\n",
       "  <tbody>\n",
       "    <tr>\n",
       "      <th>0</th>\n",
       "      <td>Alabama</td>\n",
       "      <td>4841164.0</td>\n",
       "      <td>17.943329</td>\n",
       "      <td>49.75</td>\n",
       "    </tr>\n",
       "    <tr>\n",
       "      <th>1</th>\n",
       "      <td>Alaska</td>\n",
       "      <td>736855.0</td>\n",
       "      <td>9.883356</td>\n",
       "      <td>56.67</td>\n",
       "    </tr>\n",
       "    <tr>\n",
       "      <th>2</th>\n",
       "      <td>Arizona</td>\n",
       "      <td>6728577.0</td>\n",
       "      <td>17.323663</td>\n",
       "      <td>58.69</td>\n",
       "    </tr>\n",
       "    <tr>\n",
       "      <th>3</th>\n",
       "      <td>Arkansas</td>\n",
       "      <td>2968472.0</td>\n",
       "      <td>18.273071</td>\n",
       "      <td>43.82</td>\n",
       "    </tr>\n",
       "    <tr>\n",
       "      <th>4</th>\n",
       "      <td>California</td>\n",
       "      <td>38654206.0</td>\n",
       "      <td>15.533257</td>\n",
       "      <td>63.16</td>\n",
       "    </tr>\n",
       "  </tbody>\n",
       "</table>\n",
       "</div>"
      ],
      "text/plain": [
       "         Name  Population  Poverty Rate  Degree %\n",
       "0     Alabama   4841164.0     17.943329     49.75\n",
       "1      Alaska    736855.0      9.883356     56.67\n",
       "2     Arizona   6728577.0     17.323663     58.69\n",
       "3    Arkansas   2968472.0     18.273071     43.82\n",
       "4  California  38654206.0     15.533257     63.16"
      ]
     },
     "execution_count": 11,
     "metadata": {},
     "output_type": "execute_result"
    }
   ],
   "source": [
    "# Create national poverty average\n",
    "poverty_avg = census_df[\"Poverty Rate\"].mean()\n",
    "\n",
    "# Add No Degree %\n",
    "census_df[\"No Degree %\"] = census_df[\"No Degree\"] / (census_df[\"No Degree\"] + census_df[\"Degree\"])\n",
    "census_df[\"No Degree %\"] = round(census_df[\"No Degree %\"]*100,2)\n",
    "\n",
    "# Add Degree %\n",
    "census_df[\"Degree %\"] = census_df[\"Degree\"] / (census_df[\"No Degree\"] + census_df[\"Degree\"])\n",
    "census_df[\"Degree %\"] = round(census_df[\"Degree %\"]*100,2)\n",
    "\n",
    "# Create national poverty average\n",
    "degree_avg = census_df[\"Degree %\"].mean()\n",
    "\n",
    "# Only use necessary columns\n",
    "census_df = census_df.reindex(columns=[\"Name\", \"Population\", \"Poverty Rate\", \"Degree %\"])\n",
    "\n",
    "census_df.head()"
   ]
  },
  {
   "cell_type": "code",
   "execution_count": 16,
   "metadata": {},
   "outputs": [
    {
     "data": {
      "text/plain": [
       "Power_divergenceResult(statistic=1628.0075917899806, pvalue=2.073679181345529e-307)"
      ]
     },
     "execution_count": 16,
     "metadata": {},
     "output_type": "execute_result"
    }
   ],
   "source": [
    "stats.chisquare(census_df[\"Poverty Rate\"], census_df[\"Degree %\"])"
   ]
  },
  {
   "cell_type": "code",
   "execution_count": 28,
   "metadata": {},
   "outputs": [
    {
     "data": {
      "image/png": "[encoded data removed]",
      "text/plain": [
       "<Figure size 576x576 with 1 Axes>"
      ]
     },
     "metadata": {
      "needs_background": "light"
     },
     "output_type": "display_data"
    }
   ],
   "source": [
    "# Create a scatter plot which compares MPG to horsepower\n",
    "census_df.plot(kind=\"scatter\", x=\"Poverty Rate\", y=\"Degree %\", grid=True, figsize=(8,8),\n",
    "              title=\"Poverty Rate Vs. Degree %\")\n",
    "\n",
    "\n",
    "plt.show()"
   ]
  }
 ],
 "metadata": {
  "kernelspec": {
   "display_name": "Python 3",
   "language": "python",
   "name": "python3"
  },
  "language_info": {
   "codemirror_mode": {
    "name": "ipython",
    "version": 3
   },
   "file_extension": ".py",
   "mimetype": "text/x-python",
   "name": "python",
   "nbconvert_exporter": "python",
   "pygments_lexer": "ipython3",
   "version": "3.7.3"
  }
 },
 "nbformat": 4,
 "nbformat_minor": 2
}
