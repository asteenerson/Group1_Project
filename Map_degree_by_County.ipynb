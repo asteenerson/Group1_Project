{
 "cells": [
  {
   "cell_type": "code",
   "execution_count": 1,
   "metadata": {},
   "outputs": [],
   "source": [
    "# Import dependencies\n",
    "import pandas as pd\n",
    "import numpy as np\n",
    "import matplotlib.pyplot as plt\n",
    "from census import Census\n",
    "import requests\n",
    "import json\n",
    "from uszipcode import SearchEngine\n",
    "import gmaps\n",
    "\n",
    "# Import census key and set to year 2016\n",
    "from config_census import census_key\n",
    "c = Census(census_key, year=2016)\n",
    "\n",
    "# Import weather API key\n",
    "from config_maps import api_key\n",
    "\n",
    "#Import gmaps API key\n",
    "from config_g import gkey"
   ]
  },
  {
   "cell_type": "code",
   "execution_count": 2,
   "metadata": {},
   "outputs": [
    {
     "data": {
      "text/html": [
       "<div>\n",
       "<style scoped>\n",
       "    .dataframe tbody tr th:only-of-type {\n",
       "        vertical-align: middle;\n",
       "    }\n",
       "\n",
       "    .dataframe tbody tr th {\n",
       "        vertical-align: top;\n",
       "    }\n",
       "\n",
       "    .dataframe thead th {\n",
       "        text-align: right;\n",
       "    }\n",
       "</style>\n",
       "<table border=\"1\" class=\"dataframe\">\n",
       "  <thead>\n",
       "    <tr style=\"text-align: right;\">\n",
       "      <th></th>\n",
       "      <th>County</th>\n",
       "      <th>Population</th>\n",
       "      <th>Poverty Count</th>\n",
       "      <th>No Degree</th>\n",
       "      <th>Degree</th>\n",
       "      <th>Lat</th>\n",
       "      <th>Lng</th>\n",
       "    </tr>\n",
       "  </thead>\n",
       "  <tbody>\n",
       "    <tr>\n",
       "      <th>0</th>\n",
       "      <td>Abbeville County</td>\n",
       "      <td>20747.0</td>\n",
       "      <td>4669.0</td>\n",
       "      <td>5102.0</td>\n",
       "      <td>3220.0</td>\n",
       "      <td>34.23</td>\n",
       "      <td>-82.47</td>\n",
       "    </tr>\n",
       "    <tr>\n",
       "      <th>1</th>\n",
       "      <td>Ada County</td>\n",
       "      <td>429367.0</td>\n",
       "      <td>51360.0</td>\n",
       "      <td>64301.0</td>\n",
       "      <td>131300.0</td>\n",
       "      <td>43.42</td>\n",
       "      <td>-116.13</td>\n",
       "    </tr>\n",
       "    <tr>\n",
       "      <th>2</th>\n",
       "      <td>Adair County</td>\n",
       "      <td>72700.0</td>\n",
       "      <td>17031.0</td>\n",
       "      <td>17784.0</td>\n",
       "      <td>11932.0</td>\n",
       "      <td>40.20</td>\n",
       "      <td>-92.60</td>\n",
       "    </tr>\n",
       "    <tr>\n",
       "      <th>3</th>\n",
       "      <td>Adams County</td>\n",
       "      <td>768317.0</td>\n",
       "      <td>100228.0</td>\n",
       "      <td>172132.0</td>\n",
       "      <td>149855.0</td>\n",
       "      <td>39.87</td>\n",
       "      <td>-104.38</td>\n",
       "    </tr>\n",
       "    <tr>\n",
       "      <th>4</th>\n",
       "      <td>Addison County</td>\n",
       "      <td>35684.0</td>\n",
       "      <td>2861.0</td>\n",
       "      <td>7780.0</td>\n",
       "      <td>10793.0</td>\n",
       "      <td>44.05</td>\n",
       "      <td>-73.12</td>\n",
       "    </tr>\n",
       "  </tbody>\n",
       "</table>\n",
       "</div>"
      ],
      "text/plain": [
       "             County  Population  Poverty Count  No Degree    Degree    Lat  \\\n",
       "0  Abbeville County     20747.0         4669.0     5102.0    3220.0  34.23   \n",
       "1        Ada County    429367.0        51360.0    64301.0  131300.0  43.42   \n",
       "2      Adair County     72700.0        17031.0    17784.0   11932.0  40.20   \n",
       "3      Adams County    768317.0       100228.0   172132.0  149855.0  39.87   \n",
       "4    Addison County     35684.0         2861.0     7780.0   10793.0  44.05   \n",
       "\n",
       "      Lng  \n",
       "0  -82.47  \n",
       "1 -116.13  \n",
       "2  -92.60  \n",
       "3 -104.38  \n",
       "4  -73.12  "
      ]
     },
     "execution_count": 2,
     "metadata": {},
     "output_type": "execute_result"
    }
   ],
   "source": [
    "county_locations = pd.read_csv(\"Census_by_county.csv\")\n",
    "county_locations.head()"
   ]
  },
  {
   "cell_type": "code",
   "execution_count": 3,
   "metadata": {},
   "outputs": [],
   "source": [
    "# Create Poverty Rate (Poverty Count / Population)\n",
    "county_locations[\"Poverty Rate\"] = 100 * county_locations[\"Poverty Count\"].astype(int) / county_locations[\"Population\"].astype(int)\n",
    "\n",
    "# Add No Degree %\n",
    "county_locations[\"No Degree %\"] = county_locations[\"No Degree\"] / (county_locations[\"No Degree\"] + county_locations[\"Degree\"])\n",
    "county_locations[\"No Degree %\"] = round(county_locations[\"No Degree %\"]*100,2)\n",
    "\n",
    "# Add Degree %\n",
    "county_locations[\"Degree %\"] = county_locations[\"Degree\"] / (county_locations[\"No Degree\"] + county_locations[\"Degree\"])\n",
    "county_locations[\"Degree %\"] = round(county_locations[\"Degree %\"]*100,2)"
   ]
  },
  {
   "cell_type": "code",
   "execution_count": 4,
   "metadata": {},
   "outputs": [
    {
     "data": {
      "text/html": [
       "<div>\n",
       "<style scoped>\n",
       "    .dataframe tbody tr th:only-of-type {\n",
       "        vertical-align: middle;\n",
       "    }\n",
       "\n",
       "    .dataframe tbody tr th {\n",
       "        vertical-align: top;\n",
       "    }\n",
       "\n",
       "    .dataframe thead th {\n",
       "        text-align: right;\n",
       "    }\n",
       "</style>\n",
       "<table border=\"1\" class=\"dataframe\">\n",
       "  <thead>\n",
       "    <tr style=\"text-align: right;\">\n",
       "      <th></th>\n",
       "      <th>County</th>\n",
       "      <th>Population</th>\n",
       "      <th>Poverty Rate</th>\n",
       "      <th>No Degree</th>\n",
       "      <th>Degree</th>\n",
       "      <th>No Degree %</th>\n",
       "      <th>Degree %</th>\n",
       "      <th>Lat</th>\n",
       "      <th>Lng</th>\n",
       "    </tr>\n",
       "  </thead>\n",
       "  <tbody>\n",
       "    <tr>\n",
       "      <th>0</th>\n",
       "      <td>Abbeville County</td>\n",
       "      <td>20747.0</td>\n",
       "      <td>22.504458</td>\n",
       "      <td>5102.0</td>\n",
       "      <td>3220.0</td>\n",
       "      <td>61.31</td>\n",
       "      <td>38.69</td>\n",
       "      <td>34.23</td>\n",
       "      <td>-82.47</td>\n",
       "    </tr>\n",
       "    <tr>\n",
       "      <th>1</th>\n",
       "      <td>Ada County</td>\n",
       "      <td>429367.0</td>\n",
       "      <td>11.961795</td>\n",
       "      <td>64301.0</td>\n",
       "      <td>131300.0</td>\n",
       "      <td>32.87</td>\n",
       "      <td>67.13</td>\n",
       "      <td>43.42</td>\n",
       "      <td>-116.13</td>\n",
       "    </tr>\n",
       "    <tr>\n",
       "      <th>2</th>\n",
       "      <td>Adair County</td>\n",
       "      <td>72700.0</td>\n",
       "      <td>23.426410</td>\n",
       "      <td>17784.0</td>\n",
       "      <td>11932.0</td>\n",
       "      <td>59.85</td>\n",
       "      <td>40.15</td>\n",
       "      <td>40.20</td>\n",
       "      <td>-92.60</td>\n",
       "    </tr>\n",
       "    <tr>\n",
       "      <th>3</th>\n",
       "      <td>Adams County</td>\n",
       "      <td>768317.0</td>\n",
       "      <td>13.045136</td>\n",
       "      <td>172132.0</td>\n",
       "      <td>149855.0</td>\n",
       "      <td>53.46</td>\n",
       "      <td>46.54</td>\n",
       "      <td>39.87</td>\n",
       "      <td>-104.38</td>\n",
       "    </tr>\n",
       "    <tr>\n",
       "      <th>4</th>\n",
       "      <td>Addison County</td>\n",
       "      <td>35684.0</td>\n",
       "      <td>8.017599</td>\n",
       "      <td>7780.0</td>\n",
       "      <td>10793.0</td>\n",
       "      <td>41.89</td>\n",
       "      <td>58.11</td>\n",
       "      <td>44.05</td>\n",
       "      <td>-73.12</td>\n",
       "    </tr>\n",
       "  </tbody>\n",
       "</table>\n",
       "</div>"
      ],
      "text/plain": [
       "             County  Population  Poverty Rate  No Degree    Degree  \\\n",
       "0  Abbeville County     20747.0     22.504458     5102.0    3220.0   \n",
       "1        Ada County    429367.0     11.961795    64301.0  131300.0   \n",
       "2      Adair County     72700.0     23.426410    17784.0   11932.0   \n",
       "3      Adams County    768317.0     13.045136   172132.0  149855.0   \n",
       "4    Addison County     35684.0      8.017599     7780.0   10793.0   \n",
       "\n",
       "   No Degree %  Degree %    Lat     Lng  \n",
       "0        61.31     38.69  34.23  -82.47  \n",
       "1        32.87     67.13  43.42 -116.13  \n",
       "2        59.85     40.15  40.20  -92.60  \n",
       "3        53.46     46.54  39.87 -104.38  \n",
       "4        41.89     58.11  44.05  -73.12  "
      ]
     },
     "execution_count": 4,
     "metadata": {},
     "output_type": "execute_result"
    }
   ],
   "source": [
    "# Remove and reorder columns\n",
    "county_locations = county_locations.reindex(columns=[\"County\", \"Population\", \"Poverty Rate\", \"No Degree\", \"Degree\",\n",
    "                                                      \"No Degree %\", \"Degree %\", \"Lat\", \"Lng\"])\n",
    "\n",
    "county_locations.head()"
   ]
  },
  {
   "cell_type": "code",
   "execution_count": 5,
   "metadata": {},
   "outputs": [],
   "source": [
    "# Configure gmaps with API key\n",
    "gmaps.configure(api_key=gkey)\n",
    "\n",
    "# Store 'Lat' and 'Lng' into  locations \n",
    "locations = county_locations[[\"Lat\", \"Lng\"]].astype(float)\n",
    "\n",
    "# Store Poverty Rate\n",
    "degrees = county_locations[\"Degree %\"].astype(float)"
   ]
  },
  {
   "cell_type": "code",
   "execution_count": 70,
   "metadata": {},
   "outputs": [
    {
     "data": {
      "application/vnd.jupyter.widget-view+json": {
       "model_id": "8655741b65b84653b666c67736596365",
       "version_major": 2,
       "version_minor": 0
      },
      "text/plain": [
       "Figure(layout=FigureLayout(height='420px'))"
      ]
     },
     "metadata": {},
     "output_type": "display_data"
    }
   ],
   "source": [
    "# Create a poverty Heatmap layer\n",
    "fig = gmaps.figure()\n",
    "\n",
    "heat_layer = gmaps.heatmap_layer(locations, weights=degrees)\n",
    "\n",
    "heat_layer.dissipating=False\n",
    "heat_layer.max_intensity = 100\n",
    "heat_layer.point_radius = 1\n",
    "#heat_layer.opacity = 0.0\n",
    "fig.add_layer(heat_layer)\n",
    "heat_layer.gradient = [(200, 200, 200, 0.6), (0,255,255),(0,0,255)]\n",
    "\n",
    "fig"
   ]
  },
  {
   "cell_type": "code",
   "execution_count": 50,
   "metadata": {},
   "outputs": [],
   "source": [
    "more_degree_counties = county_locations.loc[county_locations[\"Degree %\"] > 50]\n",
    "less_degree_counties = county_locations.loc[county_locations[\"Degree %\"] < 50]\n",
    "more_degree_plots = more_degree_counties[[\"Lat\", \"Lng\"]]\n",
    "less_degree_plots = less_degree_counties[[\"Lat\", \"Lng\"]]"
   ]
  },
  {
   "cell_type": "code",
   "execution_count": 62,
   "metadata": {},
   "outputs": [
    {
     "data": {
      "application/vnd.jupyter.widget-view+json": {
       "model_id": "1ec5f848c6944148a46bd99616658719",
       "version_major": 2,
       "version_minor": 0
      },
      "text/plain": [
       "Figure(layout=FigureLayout(height='420px'))"
      ]
     },
     "metadata": {},
     "output_type": "display_data"
    }
   ],
   "source": [
    "more_degree_layer = gmaps.symbol_layer(more_degree_plots, fill_color = 'rgb(0,128,0)',\n",
    "                               stroke_color='rgb(0,128,0)', scale=2)\n",
    "\n",
    "fig = gmaps.figure()\n",
    "fig.add_layer(more_degree_layer)\n",
    "fig"
   ]
  },
  {
   "cell_type": "code",
   "execution_count": 64,
   "metadata": {},
   "outputs": [
    {
     "data": {
      "application/vnd.jupyter.widget-view+json": {
       "model_id": "1c01d9ace5234aff80d68ee0c15f5b0b",
       "version_major": 2,
       "version_minor": 0
      },
      "text/plain": [
       "Figure(layout=FigureLayout(height='420px'))"
      ]
     },
     "metadata": {},
     "output_type": "display_data"
    }
   ],
   "source": [
    "less_degree_layer = gmaps.symbol_layer(less_degree_plots, fill_color = 'rgb(128,0,0)',\n",
    "                               stroke_color='rgb(128,0,0)', scale=2)\n",
    "\n",
    "fig = gmaps.figure()\n",
    "fig.add_layer(less_degree_layer)\n",
    "fig"
   ]
  },
  {
   "cell_type": "code",
   "execution_count": 69,
   "metadata": {},
   "outputs": [
    {
     "data": {
      "application/vnd.jupyter.widget-view+json": {
       "model_id": "1acb484eea0b4c5e96f03c8dca5d6457",
       "version_major": 2,
       "version_minor": 0
      },
      "text/plain": [
       "Figure(layout=FigureLayout(height='420px'))"
      ]
     },
     "metadata": {},
     "output_type": "display_data"
    }
   ],
   "source": [
    "fig = gmaps.figure()\n",
    "\n",
    "fig.add_layer(heat_layer)\n",
    "fig.add_layer(more_degree_layer)\n",
    "fig.add_layer(less_degree_layer)\n",
    "fig"
   ]
  }
 ],
 "metadata": {
  "kernelspec": {
   "display_name": "Python 3",
   "language": "python",
   "name": "python3"
  },
  "language_info": {
   "codemirror_mode": {
    "name": "ipython",
    "version": 3
   },
   "file_extension": ".py",
   "mimetype": "text/x-python",
   "name": "python",
   "nbconvert_exporter": "python",
   "pygments_lexer": "ipython3",
   "version": "3.7.3"
  }
 },
 "nbformat": 4,
 "nbformat_minor": 2
}
